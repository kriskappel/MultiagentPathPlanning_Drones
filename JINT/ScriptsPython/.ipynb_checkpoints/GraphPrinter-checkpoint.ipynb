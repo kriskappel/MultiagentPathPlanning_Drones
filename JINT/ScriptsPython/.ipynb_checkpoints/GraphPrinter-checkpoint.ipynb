{
 "cells": [
  {
   "cell_type": "code",
   "execution_count": 165,
   "metadata": {
    "collapsed": true
   },
   "outputs": [],
   "source": [
    "%matplotlib inline\n",
    "import pandas as pd\n",
    "import matplotlib.pyplot as plt"
   ]
  },
  {
   "cell_type": "code",
   "execution_count": 166,
   "metadata": {
    "collapsed": true
   },
   "outputs": [],
   "source": [
    "df = pd.read_csv(\"c_cfs10k-100-table.csv\")"
   ]
  },
  {
   "cell_type": "code",
   "execution_count": 167,
   "metadata": {},
   "outputs": [
    {
     "data": {
      "text/html": [
       "<div>\n",
       "<style>\n",
       "    .dataframe thead tr:only-child th {\n",
       "        text-align: right;\n",
       "    }\n",
       "\n",
       "    .dataframe thead th {\n",
       "        text-align: left;\n",
       "    }\n",
       "\n",
       "    .dataframe tbody tr th {\n",
       "        vertical-align: top;\n",
       "    }\n",
       "</style>\n",
       "<table border=\"1\" class=\"dataframe\">\n",
       "  <thead>\n",
       "    <tr style=\"text-align: right;\">\n",
       "      <th></th>\n",
       "      <th>ticks</th>\n",
       "      <th>qmi</th>\n",
       "      <th>sdf</th>\n",
       "      <th>turn-side</th>\n",
       "    </tr>\n",
       "  </thead>\n",
       "  <tbody>\n",
       "    <tr>\n",
       "      <th>0</th>\n",
       "      <td>CFS-100</td>\n",
       "      <td>773.78</td>\n",
       "      <td>1.05</td>\n",
       "      <td>7774</td>\n",
       "    </tr>\n",
       "    <tr>\n",
       "      <th>1</th>\n",
       "      <td>CFS-100</td>\n",
       "      <td>789.69</td>\n",
       "      <td>0.75</td>\n",
       "      <td>8088</td>\n",
       "    </tr>\n",
       "    <tr>\n",
       "      <th>2</th>\n",
       "      <td>CFS-100</td>\n",
       "      <td>813.14</td>\n",
       "      <td>0.81</td>\n",
       "      <td>7652</td>\n",
       "    </tr>\n",
       "    <tr>\n",
       "      <th>3</th>\n",
       "      <td>CFS-100</td>\n",
       "      <td>797.66</td>\n",
       "      <td>0.76</td>\n",
       "      <td>7704</td>\n",
       "    </tr>\n",
       "    <tr>\n",
       "      <th>4</th>\n",
       "      <td>CFS-100</td>\n",
       "      <td>774.68</td>\n",
       "      <td>1.09</td>\n",
       "      <td>7597</td>\n",
       "    </tr>\n",
       "  </tbody>\n",
       "</table>\n",
       "</div>"
      ],
      "text/plain": [
       "     ticks     qmi   sdf  turn-side\n",
       "0  CFS-100  773.78  1.05       7774\n",
       "1  CFS-100  789.69  0.75       8088\n",
       "2  CFS-100  813.14  0.81       7652\n",
       "3  CFS-100  797.66  0.76       7704\n",
       "4  CFS-100  774.68  1.09       7597"
      ]
     },
     "execution_count": 167,
     "metadata": {},
     "output_type": "execute_result"
    }
   ],
   "source": [
    "df.head()"
   ]
  },
  {
   "cell_type": "code",
   "execution_count": 168,
   "metadata": {},
   "outputs": [
    {
     "data": {
      "text/html": [
       "<div>\n",
       "<style>\n",
       "    .dataframe thead tr:only-child th {\n",
       "        text-align: right;\n",
       "    }\n",
       "\n",
       "    .dataframe thead th {\n",
       "        text-align: left;\n",
       "    }\n",
       "\n",
       "    .dataframe tbody tr th {\n",
       "        vertical-align: top;\n",
       "    }\n",
       "</style>\n",
       "<table border=\"1\" class=\"dataframe\">\n",
       "  <thead>\n",
       "    <tr style=\"text-align: right;\">\n",
       "      <th></th>\n",
       "      <th>ticks</th>\n",
       "      <th>qmi</th>\n",
       "      <th>sdf</th>\n",
       "      <th>turn-side</th>\n",
       "    </tr>\n",
       "  </thead>\n",
       "  <tbody>\n",
       "    <tr>\n",
       "      <th>0</th>\n",
       "      <td>CFS-100</td>\n",
       "      <td>773.78</td>\n",
       "      <td>1.05</td>\n",
       "      <td>7774</td>\n",
       "    </tr>\n",
       "    <tr>\n",
       "      <th>1</th>\n",
       "      <td>CFS-100</td>\n",
       "      <td>789.69</td>\n",
       "      <td>0.75</td>\n",
       "      <td>8088</td>\n",
       "    </tr>\n",
       "    <tr>\n",
       "      <th>2</th>\n",
       "      <td>CFS-100</td>\n",
       "      <td>813.14</td>\n",
       "      <td>0.81</td>\n",
       "      <td>7652</td>\n",
       "    </tr>\n",
       "    <tr>\n",
       "      <th>3</th>\n",
       "      <td>CFS-100</td>\n",
       "      <td>797.66</td>\n",
       "      <td>0.76</td>\n",
       "      <td>7704</td>\n",
       "    </tr>\n",
       "    <tr>\n",
       "      <th>4</th>\n",
       "      <td>CFS-100</td>\n",
       "      <td>774.68</td>\n",
       "      <td>1.09</td>\n",
       "      <td>7597</td>\n",
       "    </tr>\n",
       "  </tbody>\n",
       "</table>\n",
       "</div>"
      ],
      "text/plain": [
       "     ticks     qmi   sdf  turn-side\n",
       "0  CFS-100  773.78  1.05       7774\n",
       "1  CFS-100  789.69  0.75       8088\n",
       "2  CFS-100  813.14  0.81       7652\n",
       "3  CFS-100  797.66  0.76       7704\n",
       "4  CFS-100  774.68  1.09       7597"
      ]
     },
     "execution_count": 168,
     "metadata": {},
     "output_type": "execute_result"
    }
   ],
   "source": [
    "df.set_index(df.columns[0])\n",
    "df.head()"
   ]
  },
  {
   "cell_type": "code",
   "execution_count": null,
   "metadata": {
    "collapsed": true
   },
   "outputs": [],
   "source": []
  },
  {
   "cell_type": "code",
   "execution_count": 169,
   "metadata": {},
   "outputs": [
    {
     "data": {
      "image/png": "[encoded data removed]",
      "text/plain": [
       "<matplotlib.figure.Figure at 0xd0c8208>"
      ]
     },
     "metadata": {},
     "output_type": "display_data"
    }
   ],
   "source": [
    "means = [772,772.33, 764.68, 790.66, 847.95, 902.82, 981.55, 1100]\n",
    "\n",
    "fig, ax = plt.subplots()\n",
    "ax.plot(means, linewidth=2)\n",
    "ax.legend([\"mean\"])\n",
    "\n",
    "#order= [\"50\", \"100\", \"250\", \"500\", \"1k\"]\n",
    "df.boxplot(column=\"qmi\",by='ticks',rot=90, positions=[3, 6, 4, 2, 5, 1], ax=ax)\n",
    "plt.grid(False)\n",
    "plt.title(\"QMI\")\n",
    "plt.suptitle(\"\")\n",
    "plt.xticks(rotation=360)\n",
    "plt.savefig(\"qmi.pdf\")\n",
    "plt.show()\n",
    "\n"
   ]
  },
  {
   "cell_type": "code",
   "execution_count": 170,
   "metadata": {},
   "outputs": [
    {
     "data": {
      "image/png": "[encoded data removed]",
      "text/plain": [
       "<matplotlib.figure.Figure at 0xa7b5a58>"
      ]
     },
     "metadata": {},
     "output_type": "display_data"
    }
   ],
   "source": [
    "means = [0.7, 0.72, 0.78, 0.84, 1.05, 1.24, 1.89, 2.4]\n",
    "\n",
    "fig, ax = plt.subplots()\n",
    "ax.plot(means, linewidth=2)\n",
    "ax.legend([\"mean\"])\n",
    "\n",
    "#order= [\"50\", \"100\", \"250\", \"500\", \"1k\"]\n",
    "df.boxplot(column=\"sdf\",by='ticks',rot=90, positions=[3, 6, 4, 2, 5, 1] , ax=ax)\n",
    "plt.grid(False)\n",
    "plt.title(\"SDF\")\n",
    "plt.suptitle(\"\")\n",
    "plt.xticks(rotation=360)\n",
    "plt.savefig(\"sdf.pdf\")\n",
    "plt.show()"
   ]
  },
  {
   "cell_type": "code",
   "execution_count": 171,
   "metadata": {},
   "outputs": [
    {
     "data": {
      "image/png": "[encoded data removed]",
      "text/plain": [
       "<matplotlib.figure.Figure at 0xcaccb00>"
      ]
     },
     "metadata": {},
     "output_type": "display_data"
    }
   ],
   "source": [
    "means = [4200,5700,7400, 7700, 7600, 7500, 6300, 5200]\n",
    "\n",
    "fig, ax = plt.subplots()\n",
    "ax.plot(means, linewidth=2)\n",
    "ax.legend([\"mean\"])\n",
    "\n",
    "#order= [\"50\", \"100\", \"250\", \"500\", \"1k\"]\n",
    "df.boxplot(column=\"turn-side\",by='ticks',rot=90, positions=[3, 6, 4, 2, 5, 1], ax=ax)\n",
    "plt.grid(False)\n",
    "plt.title(\"NTM\")\n",
    "plt.suptitle(\"\")\n",
    "plt.xticks(rotation=360)\n",
    "plt.savefig(\"ntm.pdf\")\n",
    "plt.show()"
   ]
  },
  {
   "cell_type": "code",
   "execution_count": null,
   "metadata": {},
   "outputs": [],
   "source": []
  },
  {
   "cell_type": "code",
   "execution_count": null,
   "metadata": {
    "collapsed": true
   },
   "outputs": [],
   "source": []
  }
 ],
 "metadata": {
  "kernelspec": {
   "display_name": "Python 2",
   "language": "python",
   "name": "python2"
  },
  "language_info": {
   "codemirror_mode": {
    "name": "ipython",
    "version": 2
   },
   "file_extension": ".py",
   "mimetype": "text/x-python",
   "name": "python",
   "nbconvert_exporter": "python",
   "pygments_lexer": "ipython2",
   "version": "2.7.13"
  }
 },
 "nbformat": 4,
 "nbformat_minor": 2
}
